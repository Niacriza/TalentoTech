{
  "nbformat": 4,
  "nbformat_minor": 0,
  "metadata": {
    "colab": {
      "provenance": [],
      "authorship_tag": "ABX9TyNtbrAqUUkDT2VttJ0xiDzy",
      "include_colab_link": true
    },
    "kernelspec": {
      "name": "python3",
      "display_name": "Python 3"
    },
    "language_info": {
      "name": "python"
    }
  },
  "cells": [
    {
      "cell_type": "markdown",
      "metadata": {
        "id": "view-in-github",
        "colab_type": "text"
      },
      "source": [
        "<a href=\"https://colab.research.google.com/github/Niacriza/TalentoTech/blob/main/Piedra_papel_tijera.ipynb\" target=\"_parent\"><img src=\"https://colab.research.google.com/assets/colab-badge.svg\" alt=\"Open In Colab\"/></a>"
      ]
    },
    {
      "cell_type": "code",
      "execution_count": null,
      "metadata": {
        "colab": {
          "base_uri": "https://localhost:8080/"
        },
        "id": "5gR_zxh7QPf7",
        "outputId": "89753846-5632-419a-e8b1-772af88929ef"
      },
      "outputs": [
        {
          "output_type": "stream",
          "name": "stdout",
          "text": [
            "Escriba piedra, papel o tijera: papel\n",
            "Máquina:  tijera\n",
            "Jugador:  papel\n",
            "¡Perdiste! Tijera le gana a papel\n",
            "¿Quieres jugar de nuevo? (si/no): no\n",
            "Gracias por jugar. Adios.\n"
          ]
        }
      ],
      "source": [
        "import random\n",
        "\n",
        "opciones = ['piedra', 'papel', 'tijera']\n",
        "\n",
        "#print (opciones)\n",
        "\n",
        "while True:\n",
        "  pc = random.choice(opciones) #choose randomly from the list \"opciones\"\n",
        "  jugador = None #jugador must be define before using while. It's define as None so the while can work\n",
        "\n",
        "  while jugador not in opciones: #With we avoid wrong words\n",
        "    jugador = input('Escriba piedra, papel o tijera: ').lower() #lower to make everything into small letters\n",
        "\n",
        "    if jugador == pc:\n",
        "        print('Máquina: ', pc)\n",
        "        print('Jugador: ', jugador)\n",
        "        print('¡Empate!')\n",
        "    elif jugador == 'piedra': #Jugador chooses rock\n",
        "         if pc == 'papel':\n",
        "            print('Máquina: ', pc)\n",
        "            print('Jugador: ', jugador)\n",
        "            print('¡Perdiste! Papel le gana a piedra')\n",
        "         if pc == 'tijera':\n",
        "            print('Máquina: ', pc)\n",
        "            print('Jugador: ', jugador)\n",
        "            print('¡Ganaste! Piedra le gana a tijera')\n",
        "    elif jugador == 'papel': #Jugador chooses paper\n",
        "        if pc == 'piedra':\n",
        "            print('Máquina: ', pc)\n",
        "            print('Jugador: ', jugador)\n",
        "            print('¡Ganaste! Papel le gana a piedra')\n",
        "        if pc == 'tijera':\n",
        "            print('Máquina: ', pc)\n",
        "            print('Jugador: ', jugador)\n",
        "            print('¡Perdiste! Tijera le gana a papel')\n",
        "    elif jugador == 'tijera': #Jugador chooses scissors\n",
        "        if pc == 'piedra':\n",
        "            print('Máquina: ', pc)\n",
        "            print('Jugador: ', jugador)\n",
        "            print('¡Perdiste! Piedra le gana a tijera')\n",
        "        if pc == 'papel':\n",
        "            print('Máquina: ', pc)\n",
        "            print('Jugador: ', jugador)\n",
        "            print('¡Ganaste! Tijera le gana a papel')\n",
        "\n",
        "    jugar_again = input('¿Quieres jugar de nuevo? (si/no): ').lower\n",
        "\n",
        "  if jugar_again != 'si': #Validar\n",
        "   break\n",
        "print('Gracias por jugar. Adios.')\n",
        "\n"
      ]
    }
  ]
}