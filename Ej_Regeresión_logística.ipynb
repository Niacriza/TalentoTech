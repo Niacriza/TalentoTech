{
  "nbformat": 4,
  "nbformat_minor": 0,
  "metadata": {
    "colab": {
      "provenance": [],
      "authorship_tag": "ABX9TyPSiqltY6hom/tYWr8F+1fa",
      "include_colab_link": true
    },
    "kernelspec": {
      "name": "python3",
      "display_name": "Python 3"
    },
    "language_info": {
      "name": "python"
    }
  },
  "cells": [
    {
      "cell_type": "markdown",
      "metadata": {
        "id": "view-in-github",
        "colab_type": "text"
      },
      "source": [
        "<a href=\"https://colab.research.google.com/github/Niacriza/TalentoTech/blob/main/Ej_Regeresi%C3%B3n_log%C3%ADstica.ipynb\" target=\"_parent\"><img src=\"https://colab.research.google.com/assets/colab-badge.svg\" alt=\"Open In Colab\"/></a>"
      ]
    },
    {
      "cell_type": "code",
      "execution_count": 5,
      "metadata": {
        "colab": {
          "base_uri": "https://localhost:8080/"
        },
        "id": "qwqT4QnjA181",
        "outputId": "b105c356-5428-40f2-e958-9086142dadf7"
      },
      "outputs": [
        {
          "output_type": "stream",
          "name": "stdout",
          "text": [
            "0.9246231155778895 0.8461538461538461 0.6666666666666666 0.7457627118644068\n"
          ]
        }
      ],
      "source": [
        "import pandas as pd\n",
        "#ref: https://www.datacamp.com/es/tutorial/understanding-logistic-regression-python\n",
        "#En un ejercicio completo, esta matriz sale de la matriz de confusión\n",
        "array = ([[162,   4],\n",
        "      [ 11,  22]])\n",
        "\n",
        "#array([[TN,   FP],\n",
        "#     [ FN,  TP]]) -> TN: true negative, FP: false positive, FN: false negative, TP: true positive\n",
        "\n",
        "#Accuracy = TN + TP / TN + FP + FN + TP\n",
        "Accuracy = (162 + 22) / (162 + 4 + 11 + 22)\n",
        "#Precision = TP / TP + FP\n",
        "Precision = 22 / (22 + 4)\n",
        "#Recall = TP / TP + FN\n",
        "Recall = 22 / (22 + 11)\n",
        "F1 = 2 * Precision * Recall / (Precision + Recall)\n",
        "print(Accuracy, Precision, Recall, F1)\n",
        "\n",
        "#from sklearn.metrics import classification_report\n",
        "#target_names = ['0', '1']\n",
        "#print(classification_report(array, target_names=target_names))"
      ]
    }
  ]
}